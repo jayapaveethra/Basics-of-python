{
 "cells": [
  {
   "cell_type": "markdown",
   "id": "90178a22",
   "metadata": {},
   "source": [
    "Python\n",
    "To run python in cmd prompt, Type python \n",
    "The python interpreter will display in cmd pront i.e., >>>\n",
    "\n",
    "IDE is a piece of software that provides useful features like code hiting, syntax highlighting and checking, file explorers etc to the programmer for application development\n",
    "\n",
    "we can create a new file and save it with .py extension"
   ]
  },
  {
   "cell_type": "raw",
   "id": "7174a945",
   "metadata": {},
   "source": [
    "print(\"Hello World!\")"
   ]
  },
  {
   "cell_type": "markdown",
   "id": "bda2d58b",
   "metadata": {},
   "source": [
    "Keywords:-\n",
    "Keywords are predefined, reserved words used in python programming that have special meanings to the compiler\n",
    "We cannot use a keyword as a identifer or variables, all keywords except True, False and None are in lowercase"
   ]
  },
  {
   "cell_type": "raw",
   "id": "4260b9a5",
   "metadata": {},
   "source": [
    "Identitifers are the name given to variables, classes and methods\n",
    "Rules:-\n",
    "Identifier cannot be a keyword\n",
    "case sensitive\n",
    "can have letter and digits\n",
    "First letter should begin with underscore or letter\n",
    "whitespaces and specail symbols are not allowed"
   ]
  },
  {
   "cell_type": "code",
   "execution_count": 2,
   "id": "c9d6831d",
   "metadata": {},
   "outputs": [
    {
     "name": "stdout",
     "output_type": "stream",
     "text": [
      "Python\n"
     ]
    }
   ],
   "source": [
    "language = 'Python'\n",
    "print(language)"
   ]
  },
  {
   "cell_type": "markdown",
   "id": "35289c06",
   "metadata": {},
   "source": [
    "comments\n",
    "#single line comment\n",
    "\n",
    "\n",
    "'''This is also\n",
    "example of\n",
    "multi-line comment'''"
   ]
  },
  {
   "cell_type": "markdown",
   "id": "14cc89a1",
   "metadata": {},
   "source": [
    "Variables\n",
    "In programming, a variable is a container(storage area) to hold data"
   ]
  },
  {
   "cell_type": "code",
   "execution_count": 3,
   "id": "dbacbbeb",
   "metadata": {},
   "outputs": [
    {
     "name": "stdout",
     "output_type": "stream",
     "text": [
      "10\n",
      "program.pro\n"
     ]
    }
   ],
   "source": [
    "number = 10\n",
    "site_name = 'program.pro'\n",
    "print(number)\n",
    "print(site_name)"
   ]
  },
  {
   "cell_type": "code",
   "execution_count": 4,
   "id": "a3178d0e",
   "metadata": {},
   "outputs": [
    {
     "name": "stdout",
     "output_type": "stream",
     "text": [
      "hello\n",
      "world\n"
     ]
    }
   ],
   "source": [
    "site = 'hello'\n",
    "print(site)\n",
    "site = 'world'\n",
    "print(site)"
   ]
  },
  {
   "cell_type": "code",
   "execution_count": 5,
   "id": "9ad213b3",
   "metadata": {},
   "outputs": [
    {
     "name": "stdout",
     "output_type": "stream",
     "text": [
      "5\n",
      "3.2\n",
      "Hello\n"
     ]
    }
   ],
   "source": [
    "a,b,c = 5,3.2,'Hello'\n",
    "print(a)\n",
    "print(b)\n",
    "print(c)"
   ]
  },
  {
   "cell_type": "code",
   "execution_count": 7,
   "id": "2e1fa00c",
   "metadata": {},
   "outputs": [
    {
     "name": "stdout",
     "output_type": "stream",
     "text": [
      "1\n",
      "1\n"
     ]
    }
   ],
   "source": [
    "i = j = 1\n",
    "print(i)\n",
    "print(j)"
   ]
  },
  {
   "cell_type": "markdown",
   "id": "890560a7",
   "metadata": {},
   "source": [
    "Rules For Variables\n",
    "\n",
    "Upper or Lower case (A-Z)\n",
    "Digits (0-9)\n",
    "UnderScore(_)\n",
    "Case Sensitive\n",
    "Keywords should not be used"
   ]
  },
  {
   "cell_type": "markdown",
   "id": "89d2fa90",
   "metadata": {},
   "source": [
    "Constant\n",
    "A constant is a special type of variable whose value cannot be changed\n",
    "In python, constants are usually declared and assigned in a module\n",
    "\n",
    "example:\n",
    "Create a constant.py\n",
    "create a main.py\n",
    "I have created in IDLE separatly"
   ]
  },
  {
   "cell_type": "markdown",
   "id": "c04e13c8",
   "metadata": {},
   "source": [
    "Literals\n",
    "Literals are representations of fixed values in a program\n",
    "They can be numbers, characters or strings\n",
    "Literals are often used to assign values to variables or constants\n",
    "\n",
    "example: Site_name = 'promiz.com'"
   ]
  },
  {
   "cell_type": "markdown",
   "id": "b43b0927",
   "metadata": {},
   "source": [
    "Python Numeric Literals:\n",
    "Numeric Literals are immutable (unchangable).\n",
    "Numeric Literals can belong to 3 different numerical types:\n",
    "Integer, Float and Complex"
   ]
  },
  {
   "cell_type": "markdown",
   "id": "5559fc8f",
   "metadata": {},
   "source": [
    "Boolean Literals:\n",
    "True or False\n",
    "pass = True"
   ]
  },
  {
   "cell_type": "markdown",
   "id": "ef982fb8",
   "metadata": {},
   "source": [
    "String and Character Literals:\n",
    "Character:\n",
    "some_ch = 's'\n",
    "\n",
    "String:\n",
    "some_ch = 'python is fur'"
   ]
  },
  {
   "cell_type": "raw",
   "id": "6b48f976",
   "metadata": {},
   "source": [
    "Special Literals:\n",
    "\n",
    "Python contains one specical literal None. We use it to specify a null variable"
   ]
  },
  {
   "cell_type": "code",
   "execution_count": 1,
   "id": "9ee07df7",
   "metadata": {},
   "outputs": [
    {
     "name": "stdout",
     "output_type": "stream",
     "text": [
      "None\n"
     ]
    }
   ],
   "source": [
    "Value = None\n",
    "print(Value)"
   ]
  },
  {
   "cell_type": "code",
   "execution_count": 2,
   "id": "6878cba7",
   "metadata": {},
   "outputs": [
    {
     "name": "stdout",
     "output_type": "stream",
     "text": [
      "['apple', 'mango', 'orange']\n",
      "(1, 2, 3)\n",
      "{'a': 'apple', 'b': 'ball', 'c': 'cat'}\n",
      "{'o', 'e', 'i', 'u', 'a'}\n"
     ]
    }
   ],
   "source": [
    "#Literal Collections:\n",
    "#There are four different collections List, Tuple, Dict and set literals\n",
    "\n",
    "#List Literal\n",
    "fruits = [\"apple\", \"mango\", \"orange\"]\n",
    "print(fruits)\n",
    "\n",
    "#tuple literal\n",
    "numbers = (1,2,3)\n",
    "print(numbers)\n",
    "\n",
    "#dictionary literal\n",
    "alpha = {'a':'apple', 'b':'ball', 'c':'cat'}\n",
    "print(alpha)\n",
    "\n",
    "#set literal\n",
    "vowels = {'a','e','i', 'o', 'u'}\n",
    "print(vowels)"
   ]
  },
  {
   "cell_type": "markdown",
   "id": "d2e246c7",
   "metadata": {},
   "source": [
    "Python Data Types:\n",
    "\n",
    "In computer programming, data types specify the type of data that can be stored inside a variable."
   ]
  },
  {
   "cell_type": "markdown",
   "id": "d6fa4666",
   "metadata": {},
   "source": [
    "Python Numeric Data type:\n",
    "\n",
    "In Python, numeric data type is used to hold numeric values."
   ]
  },
  {
   "cell_type": "code",
   "execution_count": 3,
   "id": "2cbfe30e",
   "metadata": {},
   "outputs": [
    {
     "name": "stdout",
     "output_type": "stream",
     "text": [
      "5 is of type <class 'int'>\n",
      "2.0 is of type <class 'float'>\n",
      "(1+2j) is of type <class 'complex'>\n"
     ]
    }
   ],
   "source": [
    "num1 = 5\n",
    "print(num1, 'is of type', type(num1))\n",
    "\n",
    "num2 = 2.0\n",
    "print(num2, 'is of type', type(num2))\n",
    "\n",
    "num3 = 1+2j\n",
    "print(num3, 'is of type', type(num3))"
   ]
  },
  {
   "cell_type": "markdown",
   "id": "3581c70a",
   "metadata": {},
   "source": [
    "Python List Data Type\n",
    "\n",
    "List is an ordered collection of similar or different types of items separated by commas and enclosed within brackets [ ]"
   ]
  },
  {
   "cell_type": "code",
   "execution_count": 4,
   "id": "af79b91d",
   "metadata": {},
   "outputs": [
    {
     "name": "stdout",
     "output_type": "stream",
     "text": [
      "swift\n",
      "Python\n"
     ]
    }
   ],
   "source": [
    "languages = [\"swift\", \"Java\", \"Python\"]\n",
    "#access element at index 0\n",
    "print(languages[0])\n",
    "#access element at index 2\n",
    "print(languages[2])"
   ]
  },
  {
   "cell_type": "markdown",
   "id": "9b621b12",
   "metadata": {},
   "source": [
    "Python Tuple Data Type\n",
    "\n",
    "Tuple is an ordered sequence of items same as a list. The only difference is that tuples are immutable. Tuples once created cannot be modified.\n",
    "\n",
    "In Python, we use the parentheses () to store items of a tuple."
   ]
  },
  {
   "cell_type": "code",
   "execution_count": 5,
   "id": "ea3bc2e7",
   "metadata": {},
   "outputs": [
    {
     "name": "stdout",
     "output_type": "stream",
     "text": [
      "Microsoft\n",
      "xbox\n"
     ]
    }
   ],
   "source": [
    "product = ('Microsoft', 'xbox', 499.99)\n",
    "print(product[0])\n",
    "print(product[1])"
   ]
  },
  {
   "cell_type": "markdown",
   "id": "71f1f392",
   "metadata": {},
   "source": [
    "Python String Data Type:\n",
    "\n",
    "String is a sequence of characters represented by either single or double quotes."
   ]
  },
  {
   "cell_type": "code",
   "execution_count": 6,
   "id": "f19e6dfa",
   "metadata": {},
   "outputs": [
    {
     "name": "stdout",
     "output_type": "stream",
     "text": [
      "python\n",
      "python for beginners\n"
     ]
    }
   ],
   "source": [
    "name = 'python'\n",
    "print(name)\n",
    "message = 'python for beginners'\n",
    "print(message)"
   ]
  },
  {
   "cell_type": "markdown",
   "id": "4d372258",
   "metadata": {},
   "source": [
    "Python Set Data Type:\n",
    "\n",
    "Set is an unordered collection of unique items. Set is defined by values separated by commas inside braces { }. Since sets are unordered collections, indexing has no meaning. Hence, the slicing operator [] does not work."
   ]
  },
  {
   "cell_type": "code",
   "execution_count": 7,
   "id": "745e3633",
   "metadata": {},
   "outputs": [
    {
     "name": "stdout",
     "output_type": "stream",
     "text": [
      "{112, 114, 115, 116, 118}\n",
      "<class 'set'>\n"
     ]
    }
   ],
   "source": [
    "# create a set named student_id\n",
    "student_id = {112, 114, 116, 118, 115}\n",
    "\n",
    "# display student_id elements\n",
    "print(student_id)\n",
    "\n",
    "# display type of student_id\n",
    "print(type(student_id))"
   ]
  },
  {
   "cell_type": "markdown",
   "id": "3fbb4a19",
   "metadata": {},
   "source": [
    "Python Dictionary Data Type:\n",
    "\n",
    "Python dictionary is an unordered collection of items. It stores elements in key/value pairs.\n",
    "\n",
    "Here, keys are unique identifiers that are associated with each value."
   ]
  },
  {
   "cell_type": "code",
   "execution_count": 9,
   "id": "a2564bef",
   "metadata": {},
   "outputs": [
    {
     "name": "stdout",
     "output_type": "stream",
     "text": [
      "{'Nepal': 'Kathmandu', 'Italy': 'Rome', 'England': 'London'}\n",
      "Kathmandu\n"
     ]
    }
   ],
   "source": [
    "# create a dictionary named capital_city\n",
    "capital_city = {'Nepal': 'Kathmandu', 'Italy': 'Rome', 'England': 'London'}\n",
    "\n",
    "print(capital_city)\n",
    "print(capital_city['Nepal'])\n",
    "#print(capital_city['Kathmandu']) throws an error"
   ]
  },
  {
   "cell_type": "markdown",
   "id": "ba1117f5",
   "metadata": {},
   "source": [
    "Python Type Conversion:\n",
    "\n",
    "In programming, type conversion is the process of converting data of one type to another. For example: converting integer data to string.\n",
    "\n",
    "There are two types of type conversion in Python.\n",
    "\n",
    "Implicit Conversion - automatic type conversion\n",
    "\n",
    "Explicit Conversion - manual type conversion\n",
    "\n",
    "Python Implicit Type Conversion: In certain situations, Python automatically converts one data type to another. This is known as implicit type conversion."
   ]
  },
  {
   "cell_type": "code",
   "execution_count": 10,
   "id": "203c84db",
   "metadata": {},
   "outputs": [
    {
     "name": "stdout",
     "output_type": "stream",
     "text": [
      "Value: 124.23\n",
      "Data Type: <class 'float'>\n"
     ]
    }
   ],
   "source": [
    "integer_number = 123\n",
    "float_number = 1.23\n",
    "\n",
    "new_number = integer_number + float_number\n",
    "\n",
    "# display new value and resulting data type\n",
    "print(\"Value:\",new_number)\n",
    "print(\"Data Type:\",type(new_number))"
   ]
  },
  {
   "cell_type": "markdown",
   "id": "369c831c",
   "metadata": {},
   "source": [
    "Explicit Type Conversion\n",
    "\n",
    "In Explicit Type Conversion, users convert the data type of an object to required data type.\n",
    "\n",
    "We use the built-in functions like int(), float(), str(), etc to perform explicit type conversion.\n",
    "\n",
    "This type of conversion is also called typecasting because the user casts (changes) the data type of the objects."
   ]
  },
  {
   "cell_type": "code",
   "execution_count": 11,
   "id": "e4159abf",
   "metadata": {},
   "outputs": [
    {
     "name": "stdout",
     "output_type": "stream",
     "text": [
      "Data type of num_string before Type Casting: <class 'str'>\n",
      "Data type of num_string after Type Casting: <class 'int'>\n",
      "Sum: 35\n",
      "Data type of num_sum: <class 'int'>\n"
     ]
    }
   ],
   "source": [
    "num_string = '12'\n",
    "num_integer = 23\n",
    "\n",
    "print(\"Data type of num_string before Type Casting:\",type(num_string))\n",
    "\n",
    "# explicit type conversion\n",
    "num_string = int(num_string)\n",
    "\n",
    "print(\"Data type of num_string after Type Casting:\",type(num_string))\n",
    "\n",
    "num_sum = num_integer + num_string\n",
    "\n",
    "print(\"Sum:\",num_sum)\n",
    "print(\"Data type of num_sum:\",type(num_sum))"
   ]
  },
  {
   "cell_type": "markdown",
   "id": "6eb8feee",
   "metadata": {},
   "source": [
    "Key Points to Remember\n",
    "\n",
    "Type Conversion is the conversion of an object from one data type to another data type.\n",
    "Implicit Type Conversion is automatically performed by the Python interpreter.\n",
    "Python avoids the loss of data in Implicit Type Conversion.\n",
    "Explicit Type Conversion is also called Type Casting, the data types of objects are converted using predefined functions by the user.\n",
    "In Type Casting, loss of data may occur as we enforce the object to a specific data type."
   ]
  },
  {
   "cell_type": "code",
   "execution_count": 12,
   "id": "e564ee6e",
   "metadata": {},
   "outputs": [
    {
     "name": "stdout",
     "output_type": "stream",
     "text": [
      "Python is powerful\n"
     ]
    }
   ],
   "source": [
    "#Python Basic Input and Output\n",
    "print('Python is powerful')"
   ]
  },
  {
   "cell_type": "markdown",
   "id": "fb061958",
   "metadata": {},
   "source": [
    "Syntax of print()\n",
    "\n",
    "print(object= separator= end= file= flush=)\n",
    "\n",
    "Here,\n",
    "\n",
    "object - value(s) to be printed\n",
    "\n",
    "sep (optional) - allows us to separate multiple objects inside print().\n",
    "\n",
    "end (optional) - allows us to add add specific values like new line \"\\n\", tab \"\\t\"\n",
    "\n",
    "file (optional) - where the values are printed. It's default value is sys.stdout (screen)\n",
    "\n",
    "flush (optional) - boolean specifying if the output is flushed or buffered. Default: False"
   ]
  },
  {
   "cell_type": "code",
   "execution_count": 13,
   "id": "67c61233",
   "metadata": {},
   "outputs": [
    {
     "name": "stdout",
     "output_type": "stream",
     "text": [
      "Good Morning!\n",
      "It is rainy today\n"
     ]
    }
   ],
   "source": [
    "print('Good Morning!')\n",
    "print('It is rainy today')"
   ]
  },
  {
   "cell_type": "code",
   "execution_count": 15,
   "id": "6ea7cb93",
   "metadata": {},
   "outputs": [
    {
     "name": "stdout",
     "output_type": "stream",
     "text": [
      "Good Morning! It is rainy today\n"
     ]
    }
   ],
   "source": [
    "# print with end whitespace\n",
    "print('Good Morning!', end= ' ')\n",
    "\n",
    "print('It is rainy today')\n",
    "#Notice that we have included the end= ' ' after the end of the first print() statement.\n",
    "\n",
    "#Hence, we get the output in a single line separated by space."
   ]
  },
  {
   "cell_type": "code",
   "execution_count": 16,
   "id": "ca7d48b7",
   "metadata": {},
   "outputs": [
    {
     "name": "stdout",
     "output_type": "stream",
     "text": [
      "New Year. 2023. See you soon!\n"
     ]
    }
   ],
   "source": [
    "print('New Year', 2023, 'See you soon!', sep= '. ')\n",
    "#In the above example, the print() statement includes multiple items separated by a comma.\n",
    "\n",
    "#Notice that we have used the optional parameter sep= \". \" inside the print() statement."
   ]
  },
  {
   "cell_type": "code",
   "execution_count": 17,
   "id": "225f11a4",
   "metadata": {},
   "outputs": [
    {
     "name": "stdout",
     "output_type": "stream",
     "text": [
      "5\n",
      "-10.6\n",
      "Programiz\n"
     ]
    }
   ],
   "source": [
    "number = -10.6\n",
    "\n",
    "name = \"Programiz\"\n",
    "\n",
    "# print literals     \n",
    "print(5)\n",
    "\n",
    "# print variables\n",
    "print(number)\n",
    "print(name)"
   ]
  },
  {
   "cell_type": "code",
   "execution_count": 18,
   "id": "530d68e4",
   "metadata": {},
   "outputs": [
    {
     "name": "stdout",
     "output_type": "stream",
     "text": [
      "Programiz is awesome.\n"
     ]
    }
   ],
   "source": [
    "print('Programiz is ' + 'awesome.')"
   ]
  },
  {
   "cell_type": "code",
   "execution_count": 19,
   "id": "b307ced6",
   "metadata": {},
   "outputs": [
    {
     "name": "stdout",
     "output_type": "stream",
     "text": [
      "The value of x is 5 and y is 10\n"
     ]
    }
   ],
   "source": [
    "x = 5\n",
    "y = 10\n",
    "\n",
    "print('The value of x is {} and y is {}'.format(x,y))"
   ]
  },
  {
   "cell_type": "markdown",
   "id": "d9aa976b",
   "metadata": {},
   "source": [
    "Python Input:\n",
    "\n",
    "While programming, we might want to take the input from the user. In Python, we can use the input() function."
   ]
  },
  {
   "cell_type": "code",
   "execution_count": 20,
   "id": "2539c6bd",
   "metadata": {},
   "outputs": [
    {
     "name": "stdout",
     "output_type": "stream",
     "text": [
      "Enter a number: 10\n",
      "You Entered: 10\n",
      "Data type of num: <class 'str'>\n"
     ]
    }
   ],
   "source": [
    "# using input() to take user input\n",
    "num = input('Enter a number: ')\n",
    "\n",
    "print('You Entered:', num)\n",
    "\n",
    "print('Data type of num:', type(num))"
   ]
  },
  {
   "cell_type": "markdown",
   "id": "f3d6998f",
   "metadata": {},
   "source": [
    "Python Operators:\n",
    "\n",
    "Operators are special symbols that perform operations on variables and values.\n",
    "\n",
    "Python Arithmetic Operators:\n",
    "\n",
    "Arithmetic operators are used to perform mathematical operations like addition, subtraction, multiplication, etc."
   ]
  },
  {
   "cell_type": "code",
   "execution_count": 21,
   "id": "d7b16135",
   "metadata": {},
   "outputs": [
    {
     "name": "stdout",
     "output_type": "stream",
     "text": [
      "Sum:  9\n",
      "Subtraction:  5\n",
      "Multiplication:  14\n",
      "Division:  3.5\n",
      "Modulo:  1\n",
      "Power:  49\n"
     ]
    }
   ],
   "source": [
    "a = 7\n",
    "b = 2\n",
    "\n",
    "# addition\n",
    "print ('Sum: ', a + b)  \n",
    "\n",
    "# subtraction\n",
    "print ('Subtraction: ', a - b)   \n",
    "\n",
    "# multiplication\n",
    "print ('Multiplication: ', a * b)  \n",
    "\n",
    "# division\n",
    "print ('Division: ', a / b) \n",
    "\n",
    "# modulo\n",
    "print ('Modulo: ', a % b)  \n",
    "\n",
    "# a to the power b\n",
    "print ('Power: ', a ** b)   "
   ]
  },
  {
   "cell_type": "markdown",
   "id": "9d49313a",
   "metadata": {},
   "source": [
    "Python Assignment Operators:\n",
    "\n",
    "Assignment operators are used to assign values to variables. "
   ]
  },
  {
   "cell_type": "code",
   "execution_count": 22,
   "id": "e1a46bf0",
   "metadata": {},
   "outputs": [
    {
     "name": "stdout",
     "output_type": "stream",
     "text": [
      "15\n"
     ]
    }
   ],
   "source": [
    "# assign 10 to a\n",
    "a = 10\n",
    "\n",
    "# assign 5 to b\n",
    "b = 5 \n",
    "\n",
    "# assign the sum of a and b to a\n",
    "a += b      # a = a + b\n",
    "\n",
    "print(a)\n",
    "\n",
    "# Output: 15"
   ]
  },
  {
   "cell_type": "markdown",
   "id": "03836fe6",
   "metadata": {},
   "source": [
    "Python Comparison Operators:\n",
    "\n",
    "Comparison operators compare two values/variables and return a boolean result: True or False."
   ]
  },
  {
   "cell_type": "code",
   "execution_count": 23,
   "id": "3fa0a46c",
   "metadata": {},
   "outputs": [
    {
     "name": "stdout",
     "output_type": "stream",
     "text": [
      "a == b = False\n",
      "a != b = True\n",
      "a > b = True\n",
      "a < b = False\n",
      "a >= b = True\n",
      "a <= b = False\n"
     ]
    }
   ],
   "source": [
    "a = 5\n",
    "\n",
    "b = 2\n",
    "\n",
    "# equal to operator\n",
    "print('a == b =', a == b)\n",
    "\n",
    "# not equal to operator\n",
    "print('a != b =', a != b)\n",
    "\n",
    "# greater than operator\n",
    "print('a > b =', a > b)\n",
    "\n",
    "# less than operator\n",
    "print('a < b =', a < b)\n",
    "\n",
    "# greater than or equal to operator\n",
    "print('a >= b =', a >= b)\n",
    "\n",
    "# less than or equal to operator\n",
    "print('a <= b =', a <= b)"
   ]
  },
  {
   "cell_type": "markdown",
   "id": "b69209ec",
   "metadata": {},
   "source": [
    " Python Logical Operators\n",
    "Logical operators are used to check whether an expression is True or False. They are used in decision-making."
   ]
  },
  {
   "cell_type": "code",
   "execution_count": null,
   "id": "5a81918f",
   "metadata": {},
   "outputs": [],
   "source": []
  }
 ],
 "metadata": {
  "kernelspec": {
   "display_name": "Python 3 (ipykernel)",
   "language": "python",
   "name": "python3"
  },
  "language_info": {
   "codemirror_mode": {
    "name": "ipython",
    "version": 3
   },
   "file_extension": ".py",
   "mimetype": "text/x-python",
   "name": "python",
   "nbconvert_exporter": "python",
   "pygments_lexer": "ipython3",
   "version": "3.9.13"
  }
 },
 "nbformat": 4,
 "nbformat_minor": 5
}
