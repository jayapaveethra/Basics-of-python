{
 "cells": [
  {
   "cell_type": "markdown",
   "id": "90178a22",
   "metadata": {},
   "source": [
    "Python\n",
    "To run python in cmd prompt, Type python \n",
    "The python interpreter will display in cmd pront i.e., >>>\n",
    "\n",
    "IDE is a piece of software that provides useful features like code hiting, syntax highlighting and checking, file explorers etc to the programmer for application development\n",
    "\n",
    "we can create a new file and save it with .py extension"
   ]
  },
  {
   "cell_type": "raw",
   "id": "7174a945",
   "metadata": {},
   "source": [
    "print(\"Hello World!\")"
   ]
  },
  {
   "cell_type": "markdown",
   "id": "bda2d58b",
   "metadata": {},
   "source": [
    "Keywords:-\n",
    "Keywords are predefined, reserved words used in python programming that have special meanings to the compiler\n",
    "We cannot use a keyword as a identifer or variables, all keywords except True, False and None are in lowercase"
   ]
  },
  {
   "cell_type": "raw",
   "id": "4260b9a5",
   "metadata": {},
   "source": [
    "Identitifers are the name given to variables, classes and methods\n",
    "Rules:-\n",
    "Identifier cannot be a keyword\n",
    "case sensitive\n",
    "can have letter and digits\n",
    "First letter should begin with underscore or letter\n",
    "whitespaces and specail symbols are not allowed"
   ]
  },
  {
   "cell_type": "code",
   "execution_count": 2,
   "id": "c9d6831d",
   "metadata": {},
   "outputs": [
    {
     "name": "stdout",
     "output_type": "stream",
     "text": [
      "Python\n"
     ]
    }
   ],
   "source": [
    "language = 'Python'\n",
    "print(language)"
   ]
  },
  {
   "cell_type": "markdown",
   "id": "35289c06",
   "metadata": {},
   "source": [
    "comments\n",
    "#single line comment\n",
    "\n",
    "\n",
    "'''This is also\n",
    "example of\n",
    "multi-line comment'''"
   ]
  },
  {
   "cell_type": "markdown",
   "id": "14cc89a1",
   "metadata": {},
   "source": [
    "Variables\n",
    "In programming, a variable is a container(storage area) to hold data"
   ]
  },
  {
   "cell_type": "code",
   "execution_count": 3,
   "id": "dbacbbeb",
   "metadata": {},
   "outputs": [
    {
     "name": "stdout",
     "output_type": "stream",
     "text": [
      "10\n",
      "program.pro\n"
     ]
    }
   ],
   "source": [
    "number = 10\n",
    "site_name = 'program.pro'\n",
    "print(number)\n",
    "print(site_name)"
   ]
  },
  {
   "cell_type": "code",
   "execution_count": 4,
   "id": "a3178d0e",
   "metadata": {},
   "outputs": [
    {
     "name": "stdout",
     "output_type": "stream",
     "text": [
      "hello\n",
      "world\n"
     ]
    }
   ],
   "source": [
    "site = 'hello'\n",
    "print(site)\n",
    "site = 'world'\n",
    "print(site)"
   ]
  },
  {
   "cell_type": "code",
   "execution_count": 5,
   "id": "9ad213b3",
   "metadata": {},
   "outputs": [
    {
     "name": "stdout",
     "output_type": "stream",
     "text": [
      "5\n",
      "3.2\n",
      "Hello\n"
     ]
    }
   ],
   "source": [
    "a,b,c = 5,3.2,'Hello'\n",
    "print(a)\n",
    "print(b)\n",
    "print(c)"
   ]
  },
  {
   "cell_type": "code",
   "execution_count": 7,
   "id": "2e1fa00c",
   "metadata": {},
   "outputs": [
    {
     "name": "stdout",
     "output_type": "stream",
     "text": [
      "1\n",
      "1\n"
     ]
    }
   ],
   "source": [
    "i = j = 1\n",
    "print(i)\n",
    "print(j)"
   ]
  },
  {
   "cell_type": "markdown",
   "id": "890560a7",
   "metadata": {},
   "source": [
    "Rules For Variables\n",
    "\n",
    "Upper or Lower case (A-Z)\n",
    "Digits (0-9)\n",
    "UnderScore(_)\n",
    "Case Sensitive\n",
    "Keywords should not be used"
   ]
  },
  {
   "cell_type": "markdown",
   "id": "89d2fa90",
   "metadata": {},
   "source": [
    "Constant\n",
    "A constant is a special type of variable whose value cannot be changed\n",
    "In python, constants are usually declared and assigned in a module\n",
    "\n",
    "example:\n",
    "Create a constant.py\n",
    "create a main.py\n",
    "I have created in IDLE separatly"
   ]
  },
  {
   "cell_type": "markdown",
   "id": "c04e13c8",
   "metadata": {},
   "source": [
    "Literals\n",
    "Literals are representations of fixed values in a program\n",
    "They can be numbers, characters or strings\n",
    "Literals are often used to assign values to variables or constants\n",
    "\n",
    "example: Site_name = 'promiz.com'"
   ]
  },
  {
   "cell_type": "markdown",
   "id": "b43b0927",
   "metadata": {},
   "source": [
    "Python Numeric Literals:\n",
    "Numeric Literals are immutable (unchangable).\n",
    "Numeric Literals can belong to 3 different numerical types:\n",
    "Integer, Float and Complex"
   ]
  },
  {
   "cell_type": "markdown",
   "id": "5559fc8f",
   "metadata": {},
   "source": [
    "Boolean Literals:\n",
    "True or False\n",
    "pass = True"
   ]
  },
  {
   "cell_type": "markdown",
   "id": "ef982fb8",
   "metadata": {},
   "source": [
    "String and Character Literals:\n",
    "Character:\n",
    "some_ch = 's'\n",
    "\n",
    "String:\n",
    "some_ch = 'python is fur'"
   ]
  },
  {
   "cell_type": "raw",
   "id": "6b48f976",
   "metadata": {},
   "source": [
    "Special Literals:\n",
    "\n",
    "Python contains one specical literal None. We use it to specify a null variable"
   ]
  },
  {
   "cell_type": "code",
   "execution_count": 1,
   "id": "9ee07df7",
   "metadata": {},
   "outputs": [
    {
     "name": "stdout",
     "output_type": "stream",
     "text": [
      "None\n"
     ]
    }
   ],
   "source": [
    "Value = None\n",
    "print(Value)"
   ]
  },
  {
   "cell_type": "code",
   "execution_count": 2,
   "id": "6878cba7",
   "metadata": {},
   "outputs": [
    {
     "name": "stdout",
     "output_type": "stream",
     "text": [
      "['apple', 'mango', 'orange']\n",
      "(1, 2, 3)\n",
      "{'a': 'apple', 'b': 'ball', 'c': 'cat'}\n",
      "{'o', 'e', 'i', 'u', 'a'}\n"
     ]
    }
   ],
   "source": [
    "#Literal Collections:\n",
    "#There are four different collections List, Tuple, Dict and set literals\n",
    "\n",
    "#List Literal\n",
    "fruits = [\"apple\", \"mango\", \"orange\"]\n",
    "print(fruits)\n",
    "\n",
    "#tuple literal\n",
    "numbers = (1,2,3)\n",
    "print(numbers)\n",
    "\n",
    "#dictionary literal\n",
    "alpha = {'a':'apple', 'b':'ball', 'c':'cat'}\n",
    "print(alpha)\n",
    "\n",
    "#set literal\n",
    "vowels = {'a','e','i', 'o', 'u'}\n",
    "print(vowels)"
   ]
  },
  {
   "cell_type": "code",
   "execution_count": null,
   "id": "629d5ae4",
   "metadata": {},
   "outputs": [],
   "source": []
  }
 ],
 "metadata": {
  "kernelspec": {
   "display_name": "Python 3 (ipykernel)",
   "language": "python",
   "name": "python3"
  },
  "language_info": {
   "codemirror_mode": {
    "name": "ipython",
    "version": 3
   },
   "file_extension": ".py",
   "mimetype": "text/x-python",
   "name": "python",
   "nbconvert_exporter": "python",
   "pygments_lexer": "ipython3",
   "version": "3.9.13"
  }
 },
 "nbformat": 4,
 "nbformat_minor": 5
}
