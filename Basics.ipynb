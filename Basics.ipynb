{
 "cells": [
  {
   "cell_type": "markdown",
   "id": "90178a22",
   "metadata": {},
   "source": [
    "Python\n",
    "To run python in cmd prompt, Type python \n",
    "The python interpreter will display in cmd pront i.e., >>>\n",
    "\n",
    "IDE is a piece of software that provides useful features like code hiting, syntax highlighting and checking, file explorers etc to the programmer for application development\n",
    "\n",
    "we can create a new file and save it with .py extension"
   ]
  },
  {
   "cell_type": "raw",
   "id": "7174a945",
   "metadata": {},
   "source": [
    "print(\"Hello World!\")"
   ]
  },
  {
   "cell_type": "markdown",
   "id": "bda2d58b",
   "metadata": {},
   "source": [
    "Keywords:-\n",
    "Keywords are predefined, reserved words used in python programming that have special meanings to the compiler\n",
    "We cannot use a keyword as a identifer or variables, all keywords except True, False and None are in lowercase"
   ]
  },
  {
   "cell_type": "raw",
   "id": "4260b9a5",
   "metadata": {},
   "source": [
    "Identitifers are the name given to variables, classes and methods\n",
    "Rules:-\n",
    "Identifier cannot be a keyword\n",
    "case sensitive\n",
    "can have letter and digits\n",
    "First letter should begin with underscore or letter\n",
    "whitespaces and specail symbols are not allowed"
   ]
  },
  {
   "cell_type": "code",
   "execution_count": 2,
   "id": "c9d6831d",
   "metadata": {},
   "outputs": [
    {
     "name": "stdout",
     "output_type": "stream",
     "text": [
      "Python\n"
     ]
    }
   ],
   "source": [
    "language = 'Python'\n",
    "print(language)"
   ]
  },
  {
   "cell_type": "markdown",
   "id": "35289c06",
   "metadata": {},
   "source": [
    "comments\n",
    "#single line comment\n",
    "\n",
    "\n",
    "'''This is also\n",
    "example of\n",
    "multi-line comment'''"
   ]
  },
  {
   "cell_type": "markdown",
   "id": "14cc89a1",
   "metadata": {},
   "source": [
    "Variables\n",
    "In programming, a variable is a container(storage area) to hold data"
   ]
  },
  {
   "cell_type": "code",
   "execution_count": 3,
   "id": "dbacbbeb",
   "metadata": {},
   "outputs": [
    {
     "name": "stdout",
     "output_type": "stream",
     "text": [
      "10\n",
      "program.pro\n"
     ]
    }
   ],
   "source": [
    "number = 10\n",
    "site_name = 'program.pro'\n",
    "print(number)\n",
    "print(site_name)"
   ]
  },
  {
   "cell_type": "code",
   "execution_count": 4,
   "id": "a3178d0e",
   "metadata": {},
   "outputs": [
    {
     "name": "stdout",
     "output_type": "stream",
     "text": [
      "hello\n",
      "world\n"
     ]
    }
   ],
   "source": [
    "site = 'hello'\n",
    "print(site)\n",
    "site = 'world'\n",
    "print(site)"
   ]
  },
  {
   "cell_type": "code",
   "execution_count": 5,
   "id": "9ad213b3",
   "metadata": {},
   "outputs": [
    {
     "name": "stdout",
     "output_type": "stream",
     "text": [
      "5\n",
      "3.2\n",
      "Hello\n"
     ]
    }
   ],
   "source": [
    "a,b,c = 5,3.2,'Hello'\n",
    "print(a)\n",
    "print(b)\n",
    "print(c)"
   ]
  },
  {
   "cell_type": "code",
   "execution_count": 7,
   "id": "2e1fa00c",
   "metadata": {},
   "outputs": [
    {
     "name": "stdout",
     "output_type": "stream",
     "text": [
      "1\n",
      "1\n"
     ]
    }
   ],
   "source": [
    "i = j = 1\n",
    "print(i)\n",
    "print(j)"
   ]
  },
  {
   "cell_type": "code",
   "execution_count": null,
   "id": "271b5932",
   "metadata": {},
   "outputs": [],
   "source": []
  }
 ],
 "metadata": {
  "kernelspec": {
   "display_name": "Python 3 (ipykernel)",
   "language": "python",
   "name": "python3"
  },
  "language_info": {
   "codemirror_mode": {
    "name": "ipython",
    "version": 3
   },
   "file_extension": ".py",
   "mimetype": "text/x-python",
   "name": "python",
   "nbconvert_exporter": "python",
   "pygments_lexer": "ipython3",
   "version": "3.9.13"
  }
 },
 "nbformat": 4,
 "nbformat_minor": 5
}
